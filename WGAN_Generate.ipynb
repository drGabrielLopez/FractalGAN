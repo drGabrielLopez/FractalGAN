{
 "cells": [
  {
   "cell_type": "markdown",
   "metadata": {},
   "source": [
    "# Use a saved Wasserstein GANs on model to generate fractals"
   ]
  },
  {
   "cell_type": "code",
   "execution_count": null,
   "metadata": {},
   "outputs": [],
   "source": [
    "# Load Model\n",
    "from tensorflow import keras\n",
    "model = keras.models.load_model('/home/ec2-user/SageMaker/FractalGAN/saved_models/fractals_28')"
   ]
  }
 ],
 "metadata": {
  "kernelspec": {
   "display_name": "gabs",
   "language": "python",
   "name": "gabs"
  },
  "language_info": {
   "codemirror_mode": {
    "name": "ipython",
    "version": 3
   },
   "file_extension": ".py",
   "mimetype": "text/x-python",
   "name": "python",
   "nbconvert_exporter": "python",
   "pygments_lexer": "ipython3",
   "version": "3.7.6"
  }
 },
 "nbformat": 4,
 "nbformat_minor": 5
}
